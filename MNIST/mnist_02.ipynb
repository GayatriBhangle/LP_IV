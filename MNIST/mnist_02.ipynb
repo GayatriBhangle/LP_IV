{
 "cells": [
  {
   "cell_type": "code",
   "execution_count": 3,
   "id": "19a10397-4836-4a34-aded-790a72362f89",
   "metadata": {},
   "outputs": [],
   "source": [
    "#import necessary packages\n",
    "import tensorflow as tf\n",
    "from tensorflow.keras.datasets import mnist\n",
    "from tensorflow.keras.models import Sequential\n",
    "from tensorflow.keras.layers import Conv2D, MaxPooling2D, Flatten, Dense\n",
    "import matplotlib.pyplot as plt"
   ]
  },
  {
   "cell_type": "code",
   "execution_count": 5,
   "id": "36e75980-2741-40a9-b2e7-948ab0bc9e4d",
   "metadata": {},
   "outputs": [],
   "source": [
    "#Load the MNIST dataset \n",
    "(x_train, y_train), (x_test, y_test) = mnist.load_data()"
   ]
  },
  {
   "cell_type": "code",
   "execution_count": 9,
   "id": "47f45f0c-4a47-4fc3-b725-a9b94f15f15a",
   "metadata": {},
   "outputs": [],
   "source": [
    "#Reshape the data to include a single color channel for CNN inpu (28x28x1)\n",
    "x_train = x_train.reshape(-1, 28, 28, 1).astype('float32') / 255.0\n",
    "x_test = x_test.reshape(-1, 28, 28, 1).astype('float32') / 255.0"
   ]
  },
  {
   "cell_type": "code",
   "execution_count": 13,
   "id": "14459c8e-78e0-4aae-9615-b53c2d39abc1",
   "metadata": {},
   "outputs": [],
   "source": [
    "# Define a CNN for image classification\n",
    "model = Sequential([\n",
    "    Conv2D(32, (3, 3), activation='relu', input_shape=(28, 28, 1)),  # First Conv Layer\n",
    "    MaxPooling2D((2, 2)),  # First Pooling Layer\n",
    "    Conv2D(64, (3, 3), activation='relu'),  # Second Conv Layer\n",
    "    MaxPooling2D((2, 2)),  # Second Pooling Layer\n",
    "    Flatten(),  # Flattening layer to convert 2D feature maps to 1D\n",
    "    Dense(128, activation='relu'),  # Fully connected layer\n",
    "    Dense(10, activation='softmax')  # Output layer for classification\n",
    "])"
   ]
  },
  {
   "cell_type": "code",
   "execution_count": 15,
   "id": "1861d5f0-62c0-4ce3-9e31-c8aa1c844ee3",
   "metadata": {},
   "outputs": [],
   "source": [
    "model.compile(optimizer='adam', loss='sparse_categorical_crossentropy', metrics=['accuracy'])"
   ]
  },
  {
   "cell_type": "code",
   "execution_count": 17,
   "id": "413dc175-65c2-4894-ae78-6ec64333857c",
   "metadata": {},
   "outputs": [
    {
     "name": "stdout",
     "output_type": "stream",
     "text": [
      "Epoch 1/10\n",
      "\u001b[1m1875/1875\u001b[0m \u001b[32m━━━━━━━━━━━━━━━━━━━━\u001b[0m\u001b[37m\u001b[0m \u001b[1m20s\u001b[0m 9ms/step - accuracy: 0.5718 - loss: 1.2321 - val_accuracy: 0.9288 - val_loss: 0.2369\n",
      "Epoch 2/10\n",
      "\u001b[1m1875/1875\u001b[0m \u001b[32m━━━━━━━━━━━━━━━━━━━━\u001b[0m\u001b[37m\u001b[0m \u001b[1m18s\u001b[0m 9ms/step - accuracy: 0.9373 - loss: 0.2117 - val_accuracy: 0.9633 - val_loss: 0.1225\n",
      "Epoch 3/10\n",
      "\u001b[1m1875/1875\u001b[0m \u001b[32m━━━━━━━━━━━━━━━━━━━━\u001b[0m\u001b[37m\u001b[0m \u001b[1m18s\u001b[0m 9ms/step - accuracy: 0.9608 - loss: 0.1292 - val_accuracy: 0.9702 - val_loss: 0.0932\n",
      "Epoch 4/10\n",
      "\u001b[1m1875/1875\u001b[0m \u001b[32m━━━━━━━━━━━━━━━━━━━━\u001b[0m\u001b[37m\u001b[0m \u001b[1m18s\u001b[0m 9ms/step - accuracy: 0.9679 - loss: 0.1027 - val_accuracy: 0.9719 - val_loss: 0.0886\n",
      "Epoch 5/10\n",
      "\u001b[1m1875/1875\u001b[0m \u001b[32m━━━━━━━━━━━━━━━━━━━━\u001b[0m\u001b[37m\u001b[0m \u001b[1m17s\u001b[0m 9ms/step - accuracy: 0.9739 - loss: 0.0871 - val_accuracy: 0.9776 - val_loss: 0.0684\n",
      "Epoch 6/10\n",
      "\u001b[1m1875/1875\u001b[0m \u001b[32m━━━━━━━━━━━━━━━━━━━━\u001b[0m\u001b[37m\u001b[0m \u001b[1m18s\u001b[0m 10ms/step - accuracy: 0.9774 - loss: 0.0763 - val_accuracy: 0.9795 - val_loss: 0.0642\n",
      "Epoch 7/10\n",
      "\u001b[1m1875/1875\u001b[0m \u001b[32m━━━━━━━━━━━━━━━━━━━━\u001b[0m\u001b[37m\u001b[0m \u001b[1m18s\u001b[0m 9ms/step - accuracy: 0.9784 - loss: 0.0701 - val_accuracy: 0.9786 - val_loss: 0.0678\n",
      "Epoch 8/10\n",
      "\u001b[1m1875/1875\u001b[0m \u001b[32m━━━━━━━━━━━━━━━━━━━━\u001b[0m\u001b[37m\u001b[0m \u001b[1m18s\u001b[0m 10ms/step - accuracy: 0.9811 - loss: 0.0607 - val_accuracy: 0.9826 - val_loss: 0.0584\n",
      "Epoch 9/10\n",
      "\u001b[1m1875/1875\u001b[0m \u001b[32m━━━━━━━━━━━━━━━━━━━━\u001b[0m\u001b[37m\u001b[0m \u001b[1m18s\u001b[0m 9ms/step - accuracy: 0.9837 - loss: 0.0527 - val_accuracy: 0.9791 - val_loss: 0.0613\n",
      "Epoch 10/10\n",
      "\u001b[1m1875/1875\u001b[0m \u001b[32m━━━━━━━━━━━━━━━━━━━━\u001b[0m\u001b[37m\u001b[0m \u001b[1m18s\u001b[0m 9ms/step - accuracy: 0.9843 - loss: 0.0495 - val_accuracy: 0.9809 - val_loss: 0.0575\n"
     ]
    }
   ],
   "source": [
    "# Train the CNN model for 10 epochs\n",
    "history = model.fit(x_train, y_train, epochs=10, validation_data=(x_test, y_test), batch_size=32)"
   ]
  }
 ],
 "metadata": {
  "kernelspec": {
   "display_name": "Python 3 (ipykernel)",
   "language": "python",
   "name": "python3"
  },
  "language_info": {
   "codemirror_mode": {
    "name": "ipython",
    "version": 3
   },
   "file_extension": ".py",
   "mimetype": "text/x-python",
   "name": "python",
   "nbconvert_exporter": "python",
   "pygments_lexer": "ipython3",
   "version": "3.12.7"
  }
 },
 "nbformat": 4,
 "nbformat_minor": 5
}
